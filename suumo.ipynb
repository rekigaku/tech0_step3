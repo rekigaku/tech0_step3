{
 "cells": [
  {
   "cell_type": "code",
   "execution_count": 3,
   "metadata": {},
   "outputs": [],
   "source": [
    "import requests\n",
    "from bs4 import BeautifulSoup\n",
    "import pandas as pd\n",
    "from time import sleep\n"
   ]
  },
  {
   "cell_type": "code",
   "execution_count": 4,
   "metadata": {},
   "outputs": [],
   "source": [
    "# 空のDataFrameを作成（追加項目を含む）\n",
    "columns = [\"物件名\", \"住所\", \"アクセス\", \"築年数\", \"階数\", \"家賃\", \"管理費\", \"間取り\", \"広さ\", \"敷金\", \"礼金\", \"物件画像URL\", \"物件詳細URL\"]\n",
    "df = pd.DataFrame(columns=columns)\n",
    "\n",
    "# ベースとなるURL（ページ番号を含む）\n",
    "base_url = \"https://bridal.suumo.jp/jj/chintai/ichiran/FR301FC001/?ar=030&bs=040&ta=13&sc=13101&sc=13102&sc=13103&sc=13104&sc=13105&sc=13113&sc=13106&sc=13107&sc=13108&sc=13118&sc=13121&sc=13122&sc=13123&sc=13109&sc=13110&sc=13111&sc=13112&sc=13114&sc=13115&sc=13120&sc=13116&sc=13117&sc=13119&cb=0.0&ct=9999999&mb=0&mt=9999999&et=9999999&cn=9999999&shkr1=03&shkr2=03&shkr3=03&shkr4=03&sngz=&po1=25&pc=50\"\n",
    "\n",
    "# 1ページから235ページまでスクレイピング\n",
    "for page_num in range(1, 236):\n",
    "    # ページ番号をURLに組み込む\n",
    "    url = f\"{base_url}&page={page_num}\"\n",
    "    response = requests.get(url)\n",
    "    soup = BeautifulSoup(response.text, 'html.parser')\n",
    "    sleep(1)\n",
    "\n",
    "    # 各物件の情報をループ\n",
    "    for property_row in soup.find_all('div', class_='cassetteitem'):\n",
    "        property_name = property_row.find('div', class_='cassetteitem_content-title').text.strip()  # 物件名\n",
    "        address = property_row.find('li', class_='cassetteitem_detail-col1').text.strip()  # 住所\n",
    "        access = ' '.join([div.text.strip() for div in property_row.find_all('div', class_='cassetteitem_detail-text')])  # アクセス\n",
    "        age = property_row.find('li', class_='cassetteitem_detail-col3').div.text.strip()  # 築年数\n",
    "\n",
    "        # 物件画像URLを取得（imgタグが存在しない場合はデフォルト値を設定）\n",
    "        img_tag = property_row.find('img', class_='js-linkImage')\n",
    "        image_url = img_tag['rel'] if img_tag else \"画像なし\"\n",
    "\n",
    "        # 同じ物件の異なる部屋情報を取得\n",
    "        for room_row in property_row.find_all('tbody'):\n",
    "            for tr in room_row.find_all('tr'):\n",
    "                floor = tr.find_all('td')[2].text.strip()  # 階数\n",
    "                rent = tr.find_all('td')[3].text.strip()  # 家賃\n",
    "                management_fee = tr.find_all('td')[4].text.strip() if tr.find_all('td')[4].text.strip() != '-' else '0円'  # 管理費\n",
    "                deposit_and_etc = tr.find_all('td')[5].text.strip().split('/')  # 敷/礼/保証/敷引,償却\n",
    "                deposit = deposit_and_etc[0] if len(deposit_and_etc) > 0 else '0円'  # 敷金\n",
    "                reikin = deposit_and_etc[1] if len(deposit_and_etc) > 1 else '0円'  # 礼金\n",
    "                layout = tr.find_all('td')[6].text.strip()  # 間取り\n",
    "                size = tr.find_all('td')[7].text.strip()  # 広さ\n",
    "                detail_url = 'https://bridal.suumo.jp' + tr.find('a', target='_blank')['href']  # 物件詳細URL\n",
    "\n",
    "                # 新しい行を作成してDataFrameに追加\n",
    "                new_row = pd.DataFrame([[property_name, address, access, age, floor, rent, management_fee, layout, size, deposit, reikin, image_url, detail_url]], columns=columns)\n",
    "                df = pd.concat([df, new_row], ignore_index=True)\n",
    "\n",
    "# DataFrameをCSVファイルに出力\n",
    "csv_file = 'suumo.csv' \n",
    "df.to_csv(csv_file, index=False, encoding='utf-8-sig')\n"
   ]
  },
  {
   "cell_type": "code",
   "execution_count": null,
   "metadata": {},
   "outputs": [],
   "source": []
  }
 ],
 "metadata": {
  "kernelspec": {
   "display_name": "st_python39_env",
   "language": "python",
   "name": "python3"
  },
  "language_info": {
   "codemirror_mode": {
    "name": "ipython",
    "version": 3
   },
   "file_extension": ".py",
   "mimetype": "text/x-python",
   "name": "python",
   "nbconvert_exporter": "python",
   "pygments_lexer": "ipython3",
   "version": "3.9.18"
  }
 },
 "nbformat": 4,
 "nbformat_minor": 2
}
